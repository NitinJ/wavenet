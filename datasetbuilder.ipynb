{
  "cells": [
    {
      "cell_type": "markdown",
      "metadata": {},
      "source": [
        "# Dataset Builder Notebook\n",
        "\n",
        "This notebook contains the original dataset preparation logic.\n",
        "\n",
        "**Note**: Use `python main.py prepare-dataset` instead."
      ]
    },
    {
      "cell_type": "code",
      "execution_count": 1,
      "metadata": {},
      "outputs": [],
      "source": [
        "# Original notebook implementation\n",
        "# This has been moved to modular Python files\n",
        "print('Use main.py for training and inference')"
      ]
    }
  ],
  "metadata": {
    "kernelspec": {
      "display_name": "Python 3",
      "language": "python",
      "name": "python3"
    },
    "language_info": {
      "name": "python",
      "version": "3.8.0"
    }
  },
  "nbformat": 4,
  "nbformat_minor": 4
}