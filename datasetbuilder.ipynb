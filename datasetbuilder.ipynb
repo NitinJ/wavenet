{
 "cells": [
  {
   "cell_type": "code",
   "execution_count": 1,
   "id": "97d89768",
   "metadata": {},
   "outputs": [
    {
     "name": "stdout",
     "output_type": "stream",
     "text": [
      "Using device: cuda\n",
      "Compute Capability: 8.6\n",
      "✅ TF32 is supported (Ampere or newer).\n"
     ]
    }
   ],
   "source": [
    "import numpy as np\n",
    "import torch, torchaudio\n",
    "import matplotlib.pyplot as plt\n",
    "import torch.nn as nn\n",
    "import torch.nn.functional as F\n",
    "import matplotlib.pyplot as plt\n",
    "from tqdm.auto import tqdm\n",
    "import os\n",
    "from torch.utils.data import Dataset, DataLoader\n",
    "from tqdm.auto import tqdm\n",
    "import torch, os, bisect, json\n",
    "from pathlib import Path\n",
    "\n",
    "import warnings\n",
    "warnings.filterwarnings(\"ignore\", category=UserWarning, module=\"torchaudio\")\n",
    "\n",
    "# Add this at the beginning of your notebook:\n",
    "import torch._inductor.config as config\n",
    "config.triton.cudagraphs = False\n",
    "\n",
    "device = torch.device(\"cuda\" if torch.cuda.is_available() else \"cpu\")\n",
    "print(f\"Using device: {device}\")\n",
    "\n",
    "torch.manual_seed(1337)\n",
    "if torch.cuda.is_available():\n",
    "    torch.cuda.manual_seed(1337)\n",
    "\n",
    "if torch.cuda.is_available():\n",
    "    major, minor = torch.cuda.get_device_capability()\n",
    "    print(f\"Compute Capability: {major}.{minor}\")\n",
    "    if major >= 8:\n",
    "        print(\"✅ TF32 is supported (Ampere or newer).\")\n",
    "    else:\n",
    "        print(\"❌ TF32 is not supported.\")\n",
    "\n",
    "os.environ['CUDA_LAUNCH_BLOCKING'] = '1'\n",
    "os.environ['TORCH_USE_CUDA_DSA'] = '1'  # For better debugging\n",
    "torch.backends.cuda.matmul.allow_tf32 = True\n",
    "torch.backends.cudnn.allow_tf32 = True\n",
    "torch.backends.cudnn.benchmark = True\n",
    "scaler = torch.amp.GradScaler('cuda', enabled=True)"
   ]
  }
 ],
 "metadata": {
  "kernelspec": {
   "display_name": "ml",
   "language": "python",
   "name": "python3"
  },
  "language_info": {
   "codemirror_mode": {
    "name": "ipython",
    "version": 3
   },
   "file_extension": ".py",
   "mimetype": "text/x-python",
   "name": "python",
   "nbconvert_exporter": "python",
   "pygments_lexer": "ipython3",
   "version": "3.12.9"
  }
 },
 "nbformat": 4,
 "nbformat_minor": 5
}
